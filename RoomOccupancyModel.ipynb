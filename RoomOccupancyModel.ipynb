{
 "cells": [
  {
   "cell_type": "markdown",
   "id": "fc552f48-d877-4638-8bec-0b02da70a3eb",
   "metadata": {},
   "source": [
    "# Libraries"
   ]
  },
  {
   "cell_type": "code",
   "execution_count": 147,
   "id": "7dd4126b-22ca-4fb4-b414-349a2677e747",
   "metadata": {},
   "outputs": [],
   "source": [
    "import pandas as pd\n",
    "import numpy as np\n",
    "from sklearn.preprocessing import StandardScaler\n",
    "from sklearn.model_selection import train_test_split, cross_val_score\n",
    "from sklearn.metrics import accuracy_score\n",
    "from sklearn.cluster import KMeans\n",
    "from sklearn.linear_model import LogisticRegression\n",
    "from sklearn.ensemble import GradientBoostingClassifier, RandomForestClassifier\n",
    "from sklearn.neighbors import KNeighborsClassifier\n",
    "import warnings\n",
    "warnings.filterwarnings('ignore')"
   ]
  },
  {
   "cell_type": "markdown",
   "id": "e6bf65e3-6774-4e33-9031-f63d79f4ac7b",
   "metadata": {},
   "source": [
    "# Dataset"
   ]
  },
  {
   "cell_type": "code",
   "execution_count": 63,
   "id": "65ffb62e-1b87-4fb7-b109-bad3bbafc55c",
   "metadata": {},
   "outputs": [],
   "source": [
    "dataset1 = pd.read_csv(\"Occupancy_Estimation.csv\")\n",
    "dataset1 = dataset1.iloc[:, 2:].values\n",
    "dataset1\n",
    "dataset2 = pd.read_csv(\"Occupancy_Estimation.csv\")"
   ]
  },
  {
   "cell_type": "markdown",
   "id": "65a308eb-27e0-48f4-898d-7bbdfa6dd611",
   "metadata": {},
   "source": [
    "# Preprocessing"
   ]
  },
  {
   "cell_type": "markdown",
   "id": "4b618014-522a-4273-ba4c-b2459c7810fc",
   "metadata": {},
   "source": [
    "### Using Standard Scaler"
   ]
  },
  {
   "cell_type": "code",
   "execution_count": 164,
   "id": "e56b35e4-26ee-4d69-a6df-c42854432d21",
   "metadata": {},
   "outputs": [
    {
     "data": {
      "text/plain": [
       "array([[-1.46303347, -1.35777517, -1.16233429, ..., -0.31474885,\n",
       "        -0.29402867,  1.        ],\n",
       "       [-1.46303347, -1.35777517, -1.16233429, ..., -0.31474885,\n",
       "        -0.29402867,  1.        ],\n",
       "       [-1.29225542, -1.35777517, -1.30276354, ..., -0.31474885,\n",
       "        -0.29402867,  1.        ],\n",
       "       ...,\n",
       "       [-0.92223631, -0.82903247, -0.85807092, ..., -0.31474885,\n",
       "        -0.29402867,  0.        ],\n",
       "       [-0.92223631, -0.82903247, -0.85807092, ..., -0.31474885,\n",
       "        -0.29402867,  0.        ],\n",
       "       [-0.92223631, -0.82903247, -0.85807092, ..., -0.31474885,\n",
       "        -0.29402867,  0.        ]])"
      ]
     },
     "execution_count": 164,
     "metadata": {},
     "output_type": "execute_result"
    }
   ],
   "source": [
    "dataset1[:, :-1] = StandardScaler().fit_transform(dataset1[:, :-1])\n",
    "dataset1"
   ]
  },
  {
   "cell_type": "markdown",
   "id": "697a02e3-db64-42b7-ac26-6ad13ccd5565",
   "metadata": {},
   "source": [
    "### Manually by standardization"
   ]
  },
  {
   "cell_type": "markdown",
   "id": "e556a63b-d3a8-45f3-abb9-0daa6c7aabef",
   "metadata": {},
   "source": [
    "#### Keeping all the features"
   ]
  },
  {
   "cell_type": "code",
   "execution_count": 73,
   "id": "ca648036-ac8c-40cb-89e0-a3c121926b46",
   "metadata": {},
   "outputs": [
    {
     "data": {
      "text/plain": [
       "array([[-1.46303347, -1.35777517, -1.16233429, ..., -0.31474885,\n",
       "        -0.29402867,  1.        ],\n",
       "       [-1.46303347, -1.35777517, -1.16233429, ..., -0.31474885,\n",
       "        -0.29402867,  1.        ],\n",
       "       [-1.29225542, -1.35777517, -1.30276354, ..., -0.31474885,\n",
       "        -0.29402867,  1.        ],\n",
       "       ...,\n",
       "       [-0.92223631, -0.82903247, -0.85807092, ..., -0.31474885,\n",
       "        -0.29402867,  0.        ],\n",
       "       [-0.92223631, -0.82903247, -0.85807092, ..., -0.31474885,\n",
       "        -0.29402867,  0.        ],\n",
       "       [-0.92223631, -0.82903247, -0.85807092, ..., -0.31474885,\n",
       "        -0.29402867,  0.        ]])"
      ]
     },
     "execution_count": 73,
     "metadata": {},
     "output_type": "execute_result"
    }
   ],
   "source": [
    "dataset2"
   ]
  },
  {
   "cell_type": "markdown",
   "id": "f33de44e-f3de-44f0-a529-5ce825f340ce",
   "metadata": {},
   "source": [
    "#### Combining same features into one"
   ]
  },
  {
   "cell_type": "code",
   "execution_count": 159,
   "id": "1517a7e3-4737-43bb-934d-e7831231086d",
   "metadata": {},
   "outputs": [
    {
     "data": {
      "text/html": [
       "<div>\n",
       "<style scoped>\n",
       "    .dataframe tbody tr th:only-of-type {\n",
       "        vertical-align: middle;\n",
       "    }\n",
       "\n",
       "    .dataframe tbody tr th {\n",
       "        vertical-align: top;\n",
       "    }\n",
       "\n",
       "    .dataframe thead th {\n",
       "        text-align: right;\n",
       "    }\n",
       "</style>\n",
       "<table border=\"1\" class=\"dataframe\">\n",
       "  <thead>\n",
       "    <tr style=\"text-align: right;\">\n",
       "      <th></th>\n",
       "      <th>Date</th>\n",
       "      <th>Time</th>\n",
       "      <th>S5_CO2</th>\n",
       "      <th>S5_CO2_Slope</th>\n",
       "      <th>Room_Occupancy_Count</th>\n",
       "      <th>avg_temp</th>\n",
       "      <th>avg_light</th>\n",
       "      <th>avg_sound</th>\n",
       "      <th>avg_pir</th>\n",
       "    </tr>\n",
       "  </thead>\n",
       "  <tbody>\n",
       "    <tr>\n",
       "      <th>0</th>\n",
       "      <td>2017/12/22</td>\n",
       "      <td>10:49:41</td>\n",
       "      <td>-0.354364</td>\n",
       "      <td>0.664436</td>\n",
       "      <td>1</td>\n",
       "      <td>-1.365738</td>\n",
       "      <td>0.850633</td>\n",
       "      <td>-0.172809</td>\n",
       "      <td>-0.343706</td>\n",
       "    </tr>\n",
       "    <tr>\n",
       "      <th>1</th>\n",
       "      <td>2017/12/22</td>\n",
       "      <td>10:50:12</td>\n",
       "      <td>-0.354364</td>\n",
       "      <td>0.558789</td>\n",
       "      <td>1</td>\n",
       "      <td>-1.328163</td>\n",
       "      <td>0.844927</td>\n",
       "      <td>0.593059</td>\n",
       "      <td>-0.343706</td>\n",
       "    </tr>\n",
       "    <tr>\n",
       "      <th>2</th>\n",
       "      <td>2017/12/22</td>\n",
       "      <td>10:50:42</td>\n",
       "      <td>-0.354364</td>\n",
       "      <td>0.449842</td>\n",
       "      <td>1</td>\n",
       "      <td>-1.328163</td>\n",
       "      <td>0.850633</td>\n",
       "      <td>0.140010</td>\n",
       "      <td>-0.343706</td>\n",
       "    </tr>\n",
       "    <tr>\n",
       "      <th>3</th>\n",
       "      <td>2017/12/22</td>\n",
       "      <td>10:51:13</td>\n",
       "      <td>-0.354364</td>\n",
       "      <td>0.337592</td>\n",
       "      <td>1</td>\n",
       "      <td>-1.290588</td>\n",
       "      <td>0.850633</td>\n",
       "      <td>0.161584</td>\n",
       "      <td>-0.343706</td>\n",
       "    </tr>\n",
       "    <tr>\n",
       "      <th>4</th>\n",
       "      <td>2017/12/22</td>\n",
       "      <td>10:51:44</td>\n",
       "      <td>-0.354364</td>\n",
       "      <td>0.222042</td>\n",
       "      <td>1</td>\n",
       "      <td>-1.290588</td>\n",
       "      <td>0.856339</td>\n",
       "      <td>-0.205170</td>\n",
       "      <td>-0.343706</td>\n",
       "    </tr>\n",
       "    <tr>\n",
       "      <th>...</th>\n",
       "      <td>...</td>\n",
       "      <td>...</td>\n",
       "      <td>...</td>\n",
       "      <td>...</td>\n",
       "      <td>...</td>\n",
       "      <td>...</td>\n",
       "      <td>...</td>\n",
       "      <td>...</td>\n",
       "      <td>...</td>\n",
       "    </tr>\n",
       "    <tr>\n",
       "      <th>10124</th>\n",
       "      <td>2018/01/11</td>\n",
       "      <td>08:58:07</td>\n",
       "      <td>-0.579404</td>\n",
       "      <td>0.004146</td>\n",
       "      <td>0</td>\n",
       "      <td>-1.015038</td>\n",
       "      <td>-0.176495</td>\n",
       "      <td>-0.302252</td>\n",
       "      <td>-0.343706</td>\n",
       "    </tr>\n",
       "    <tr>\n",
       "      <th>10125</th>\n",
       "      <td>2018/01/11</td>\n",
       "      <td>08:58:37</td>\n",
       "      <td>-0.579404</td>\n",
       "      <td>0.004146</td>\n",
       "      <td>0</td>\n",
       "      <td>-1.096450</td>\n",
       "      <td>-0.170789</td>\n",
       "      <td>-0.323826</td>\n",
       "      <td>-0.343706</td>\n",
       "    </tr>\n",
       "    <tr>\n",
       "      <th>10126</th>\n",
       "      <td>2018/01/11</td>\n",
       "      <td>08:59:08</td>\n",
       "      <td>-0.579404</td>\n",
       "      <td>0.004146</td>\n",
       "      <td>0</td>\n",
       "      <td>-1.052613</td>\n",
       "      <td>-0.170789</td>\n",
       "      <td>-0.269891</td>\n",
       "      <td>-0.343706</td>\n",
       "    </tr>\n",
       "    <tr>\n",
       "      <th>10127</th>\n",
       "      <td>2018/01/11</td>\n",
       "      <td>08:59:39</td>\n",
       "      <td>-0.579404</td>\n",
       "      <td>0.004146</td>\n",
       "      <td>0</td>\n",
       "      <td>-1.052613</td>\n",
       "      <td>-0.170789</td>\n",
       "      <td>-0.226744</td>\n",
       "      <td>-0.343706</td>\n",
       "    </tr>\n",
       "    <tr>\n",
       "      <th>10128</th>\n",
       "      <td>2018/01/11</td>\n",
       "      <td>09:00:09</td>\n",
       "      <td>-0.579404</td>\n",
       "      <td>0.004146</td>\n",
       "      <td>0</td>\n",
       "      <td>-1.052613</td>\n",
       "      <td>-0.170789</td>\n",
       "      <td>-0.302252</td>\n",
       "      <td>-0.343706</td>\n",
       "    </tr>\n",
       "  </tbody>\n",
       "</table>\n",
       "<p>10129 rows × 9 columns</p>\n",
       "</div>"
      ],
      "text/plain": [
       "             Date      Time    S5_CO2  S5_CO2_Slope  Room_Occupancy_Count  \\\n",
       "0      2017/12/22  10:49:41 -0.354364      0.664436                     1   \n",
       "1      2017/12/22  10:50:12 -0.354364      0.558789                     1   \n",
       "2      2017/12/22  10:50:42 -0.354364      0.449842                     1   \n",
       "3      2017/12/22  10:51:13 -0.354364      0.337592                     1   \n",
       "4      2017/12/22  10:51:44 -0.354364      0.222042                     1   \n",
       "...           ...       ...       ...           ...                   ...   \n",
       "10124  2018/01/11  08:58:07 -0.579404      0.004146                     0   \n",
       "10125  2018/01/11  08:58:37 -0.579404      0.004146                     0   \n",
       "10126  2018/01/11  08:59:08 -0.579404      0.004146                     0   \n",
       "10127  2018/01/11  08:59:39 -0.579404      0.004146                     0   \n",
       "10128  2018/01/11  09:00:09 -0.579404      0.004146                     0   \n",
       "\n",
       "       avg_temp  avg_light  avg_sound   avg_pir  \n",
       "0     -1.365738   0.850633  -0.172809 -0.343706  \n",
       "1     -1.328163   0.844927   0.593059 -0.343706  \n",
       "2     -1.328163   0.850633   0.140010 -0.343706  \n",
       "3     -1.290588   0.850633   0.161584 -0.343706  \n",
       "4     -1.290588   0.856339  -0.205170 -0.343706  \n",
       "...         ...        ...        ...       ...  \n",
       "10124 -1.015038  -0.176495  -0.302252 -0.343706  \n",
       "10125 -1.096450  -0.170789  -0.323826 -0.343706  \n",
       "10126 -1.052613  -0.170789  -0.269891 -0.343706  \n",
       "10127 -1.052613  -0.170789  -0.226744 -0.343706  \n",
       "10128 -1.052613  -0.170789  -0.302252 -0.343706  \n",
       "\n",
       "[10129 rows x 9 columns]"
      ]
     },
     "execution_count": 159,
     "metadata": {},
     "output_type": "execute_result"
    }
   ],
   "source": [
    "dataset3"
   ]
  },
  {
   "cell_type": "code",
   "execution_count": 102,
   "id": "4abbf74f-2d3b-463e-82c8-c1b69f7eaf65",
   "metadata": {},
   "outputs": [],
   "source": [
    "x = dataset3[['avg_temp', 'avg_light', 'avg_sound', 'avg_pir', 'S5_CO2', 'S5_CO2_Slope']].iloc[:].values\n",
    "y = dataset3[['Room_Occupancy_Count']].iloc[:].values"
   ]
  },
  {
   "cell_type": "markdown",
   "id": "0fd7fae1-1b67-475d-b8d6-b2857c6a2a0e",
   "metadata": {},
   "source": [
    "#### First std then mean"
   ]
  },
  {
   "cell_type": "code",
   "execution_count": 116,
   "id": "e47e5b7d-e65a-4605-a842-65834053b6e7",
   "metadata": {},
   "outputs": [
    {
     "data": {
      "text/html": [
       "<div>\n",
       "<style scoped>\n",
       "    .dataframe tbody tr th:only-of-type {\n",
       "        vertical-align: middle;\n",
       "    }\n",
       "\n",
       "    .dataframe tbody tr th {\n",
       "        vertical-align: top;\n",
       "    }\n",
       "\n",
       "    .dataframe thead th {\n",
       "        text-align: right;\n",
       "    }\n",
       "</style>\n",
       "<table border=\"1\" class=\"dataframe\">\n",
       "  <thead>\n",
       "    <tr style=\"text-align: right;\">\n",
       "      <th></th>\n",
       "      <th>S1_Temp</th>\n",
       "      <th>S2_Temp</th>\n",
       "      <th>S3_Temp</th>\n",
       "      <th>S4_Temp</th>\n",
       "      <th>S1_Light</th>\n",
       "      <th>S2_Light</th>\n",
       "      <th>S3_Light</th>\n",
       "      <th>S4_Light</th>\n",
       "      <th>S1_Sound</th>\n",
       "      <th>S2_Sound</th>\n",
       "      <th>S3_Sound</th>\n",
       "      <th>S4_Sound</th>\n",
       "      <th>S5_CO2</th>\n",
       "      <th>S5_CO2_Slope</th>\n",
       "      <th>S6_PIR</th>\n",
       "      <th>S7_PIR</th>\n",
       "    </tr>\n",
       "  </thead>\n",
       "  <tbody>\n",
       "    <tr>\n",
       "      <th>0</th>\n",
       "      <td>24.94</td>\n",
       "      <td>24.75</td>\n",
       "      <td>24.56</td>\n",
       "      <td>25.38</td>\n",
       "      <td>121</td>\n",
       "      <td>34</td>\n",
       "      <td>53</td>\n",
       "      <td>40</td>\n",
       "      <td>0.08</td>\n",
       "      <td>0.19</td>\n",
       "      <td>0.06</td>\n",
       "      <td>0.06</td>\n",
       "      <td>390</td>\n",
       "      <td>0.769231</td>\n",
       "      <td>0</td>\n",
       "      <td>0</td>\n",
       "    </tr>\n",
       "    <tr>\n",
       "      <th>1</th>\n",
       "      <td>24.94</td>\n",
       "      <td>24.75</td>\n",
       "      <td>24.56</td>\n",
       "      <td>25.44</td>\n",
       "      <td>121</td>\n",
       "      <td>33</td>\n",
       "      <td>53</td>\n",
       "      <td>40</td>\n",
       "      <td>0.93</td>\n",
       "      <td>0.05</td>\n",
       "      <td>0.06</td>\n",
       "      <td>0.06</td>\n",
       "      <td>390</td>\n",
       "      <td>0.646154</td>\n",
       "      <td>0</td>\n",
       "      <td>0</td>\n",
       "    </tr>\n",
       "    <tr>\n",
       "      <th>2</th>\n",
       "      <td>25.00</td>\n",
       "      <td>24.75</td>\n",
       "      <td>24.50</td>\n",
       "      <td>25.44</td>\n",
       "      <td>121</td>\n",
       "      <td>34</td>\n",
       "      <td>53</td>\n",
       "      <td>40</td>\n",
       "      <td>0.43</td>\n",
       "      <td>0.11</td>\n",
       "      <td>0.08</td>\n",
       "      <td>0.06</td>\n",
       "      <td>390</td>\n",
       "      <td>0.519231</td>\n",
       "      <td>0</td>\n",
       "      <td>0</td>\n",
       "    </tr>\n",
       "    <tr>\n",
       "      <th>3</th>\n",
       "      <td>25.00</td>\n",
       "      <td>24.75</td>\n",
       "      <td>24.56</td>\n",
       "      <td>25.44</td>\n",
       "      <td>121</td>\n",
       "      <td>34</td>\n",
       "      <td>53</td>\n",
       "      <td>40</td>\n",
       "      <td>0.41</td>\n",
       "      <td>0.10</td>\n",
       "      <td>0.10</td>\n",
       "      <td>0.09</td>\n",
       "      <td>390</td>\n",
       "      <td>0.388462</td>\n",
       "      <td>0</td>\n",
       "      <td>0</td>\n",
       "    </tr>\n",
       "    <tr>\n",
       "      <th>4</th>\n",
       "      <td>25.00</td>\n",
       "      <td>24.75</td>\n",
       "      <td>24.56</td>\n",
       "      <td>25.44</td>\n",
       "      <td>121</td>\n",
       "      <td>34</td>\n",
       "      <td>54</td>\n",
       "      <td>40</td>\n",
       "      <td>0.18</td>\n",
       "      <td>0.06</td>\n",
       "      <td>0.06</td>\n",
       "      <td>0.06</td>\n",
       "      <td>390</td>\n",
       "      <td>0.253846</td>\n",
       "      <td>0</td>\n",
       "      <td>0</td>\n",
       "    </tr>\n",
       "    <tr>\n",
       "      <th>...</th>\n",
       "      <td>...</td>\n",
       "      <td>...</td>\n",
       "      <td>...</td>\n",
       "      <td>...</td>\n",
       "      <td>...</td>\n",
       "      <td>...</td>\n",
       "      <td>...</td>\n",
       "      <td>...</td>\n",
       "      <td>...</td>\n",
       "      <td>...</td>\n",
       "      <td>...</td>\n",
       "      <td>...</td>\n",
       "      <td>...</td>\n",
       "      <td>...</td>\n",
       "      <td>...</td>\n",
       "      <td>...</td>\n",
       "    </tr>\n",
       "    <tr>\n",
       "      <th>10124</th>\n",
       "      <td>25.06</td>\n",
       "      <td>25.13</td>\n",
       "      <td>24.69</td>\n",
       "      <td>25.31</td>\n",
       "      <td>6</td>\n",
       "      <td>7</td>\n",
       "      <td>33</td>\n",
       "      <td>22</td>\n",
       "      <td>0.09</td>\n",
       "      <td>0.04</td>\n",
       "      <td>0.06</td>\n",
       "      <td>0.08</td>\n",
       "      <td>345</td>\n",
       "      <td>0.000000</td>\n",
       "      <td>0</td>\n",
       "      <td>0</td>\n",
       "    </tr>\n",
       "    <tr>\n",
       "      <th>10125</th>\n",
       "      <td>25.06</td>\n",
       "      <td>25.06</td>\n",
       "      <td>24.69</td>\n",
       "      <td>25.25</td>\n",
       "      <td>6</td>\n",
       "      <td>7</td>\n",
       "      <td>34</td>\n",
       "      <td>22</td>\n",
       "      <td>0.07</td>\n",
       "      <td>0.05</td>\n",
       "      <td>0.05</td>\n",
       "      <td>0.08</td>\n",
       "      <td>345</td>\n",
       "      <td>0.000000</td>\n",
       "      <td>0</td>\n",
       "      <td>0</td>\n",
       "    </tr>\n",
       "    <tr>\n",
       "      <th>10126</th>\n",
       "      <td>25.13</td>\n",
       "      <td>25.06</td>\n",
       "      <td>24.69</td>\n",
       "      <td>25.25</td>\n",
       "      <td>6</td>\n",
       "      <td>7</td>\n",
       "      <td>34</td>\n",
       "      <td>22</td>\n",
       "      <td>0.11</td>\n",
       "      <td>0.05</td>\n",
       "      <td>0.06</td>\n",
       "      <td>0.08</td>\n",
       "      <td>345</td>\n",
       "      <td>0.000000</td>\n",
       "      <td>0</td>\n",
       "      <td>0</td>\n",
       "    </tr>\n",
       "    <tr>\n",
       "      <th>10127</th>\n",
       "      <td>25.13</td>\n",
       "      <td>25.06</td>\n",
       "      <td>24.69</td>\n",
       "      <td>25.25</td>\n",
       "      <td>6</td>\n",
       "      <td>7</td>\n",
       "      <td>34</td>\n",
       "      <td>22</td>\n",
       "      <td>0.08</td>\n",
       "      <td>0.08</td>\n",
       "      <td>0.10</td>\n",
       "      <td>0.08</td>\n",
       "      <td>345</td>\n",
       "      <td>0.000000</td>\n",
       "      <td>0</td>\n",
       "      <td>0</td>\n",
       "    </tr>\n",
       "    <tr>\n",
       "      <th>10128</th>\n",
       "      <td>25.13</td>\n",
       "      <td>25.06</td>\n",
       "      <td>24.69</td>\n",
       "      <td>25.25</td>\n",
       "      <td>6</td>\n",
       "      <td>7</td>\n",
       "      <td>34</td>\n",
       "      <td>22</td>\n",
       "      <td>0.08</td>\n",
       "      <td>0.05</td>\n",
       "      <td>0.06</td>\n",
       "      <td>0.08</td>\n",
       "      <td>345</td>\n",
       "      <td>0.000000</td>\n",
       "      <td>0</td>\n",
       "      <td>0</td>\n",
       "    </tr>\n",
       "  </tbody>\n",
       "</table>\n",
       "<p>10129 rows × 16 columns</p>\n",
       "</div>"
      ],
      "text/plain": [
       "       S1_Temp  S2_Temp  S3_Temp  S4_Temp  S1_Light  S2_Light  S3_Light  \\\n",
       "0        24.94    24.75    24.56    25.38       121        34        53   \n",
       "1        24.94    24.75    24.56    25.44       121        33        53   \n",
       "2        25.00    24.75    24.50    25.44       121        34        53   \n",
       "3        25.00    24.75    24.56    25.44       121        34        53   \n",
       "4        25.00    24.75    24.56    25.44       121        34        54   \n",
       "...        ...      ...      ...      ...       ...       ...       ...   \n",
       "10124    25.06    25.13    24.69    25.31         6         7        33   \n",
       "10125    25.06    25.06    24.69    25.25         6         7        34   \n",
       "10126    25.13    25.06    24.69    25.25         6         7        34   \n",
       "10127    25.13    25.06    24.69    25.25         6         7        34   \n",
       "10128    25.13    25.06    24.69    25.25         6         7        34   \n",
       "\n",
       "       S4_Light  S1_Sound  S2_Sound  S3_Sound  S4_Sound  S5_CO2  S5_CO2_Slope  \\\n",
       "0            40      0.08      0.19      0.06      0.06     390      0.769231   \n",
       "1            40      0.93      0.05      0.06      0.06     390      0.646154   \n",
       "2            40      0.43      0.11      0.08      0.06     390      0.519231   \n",
       "3            40      0.41      0.10      0.10      0.09     390      0.388462   \n",
       "4            40      0.18      0.06      0.06      0.06     390      0.253846   \n",
       "...         ...       ...       ...       ...       ...     ...           ...   \n",
       "10124        22      0.09      0.04      0.06      0.08     345      0.000000   \n",
       "10125        22      0.07      0.05      0.05      0.08     345      0.000000   \n",
       "10126        22      0.11      0.05      0.06      0.08     345      0.000000   \n",
       "10127        22      0.08      0.08      0.10      0.08     345      0.000000   \n",
       "10128        22      0.08      0.05      0.06      0.08     345      0.000000   \n",
       "\n",
       "       S6_PIR  S7_PIR  \n",
       "0           0       0  \n",
       "1           0       0  \n",
       "2           0       0  \n",
       "3           0       0  \n",
       "4           0       0  \n",
       "...       ...     ...  \n",
       "10124       0       0  \n",
       "10125       0       0  \n",
       "10126       0       0  \n",
       "10127       0       0  \n",
       "10128       0       0  \n",
       "\n",
       "[10129 rows x 16 columns]"
      ]
     },
     "execution_count": 116,
     "metadata": {},
     "output_type": "execute_result"
    }
   ],
   "source": [
    "dataset4 = pd.read_csv(\"Occupancy_Estimation.csv\")\n",
    "dataset4 = dataset4.iloc[:, 2:19]\n",
    "dataset4.iloc[:, 0:16]"
   ]
  },
  {
   "cell_type": "code",
   "execution_count": 117,
   "id": "62c0b95e-3191-4543-a315-21a79ae56145",
   "metadata": {},
   "outputs": [],
   "source": [
    "for i in range(0, 16):\n",
    "    column = dataset4.columns[i]\n",
    "    mean = dataset4[column].mean()\n",
    "    std = dataset4[column].std()\n",
    "    dataset4[column] = (dataset4[column] - mean) / std"
   ]
  },
  {
   "cell_type": "code",
   "execution_count": 118,
   "id": "7fa7dc61-a7f2-4f1e-99d6-2cf18356a4ad",
   "metadata": {},
   "outputs": [
    {
     "data": {
      "text/html": [
       "<div>\n",
       "<style scoped>\n",
       "    .dataframe tbody tr th:only-of-type {\n",
       "        vertical-align: middle;\n",
       "    }\n",
       "\n",
       "    .dataframe tbody tr th {\n",
       "        vertical-align: top;\n",
       "    }\n",
       "\n",
       "    .dataframe thead th {\n",
       "        text-align: right;\n",
       "    }\n",
       "</style>\n",
       "<table border=\"1\" class=\"dataframe\">\n",
       "  <thead>\n",
       "    <tr style=\"text-align: right;\">\n",
       "      <th></th>\n",
       "      <th>S1_Temp</th>\n",
       "      <th>S2_Temp</th>\n",
       "      <th>S3_Temp</th>\n",
       "      <th>S4_Temp</th>\n",
       "      <th>S1_Light</th>\n",
       "      <th>S2_Light</th>\n",
       "      <th>S3_Light</th>\n",
       "      <th>S4_Light</th>\n",
       "      <th>S1_Sound</th>\n",
       "      <th>S2_Sound</th>\n",
       "      <th>S3_Sound</th>\n",
       "      <th>S4_Sound</th>\n",
       "      <th>S5_CO2</th>\n",
       "      <th>S5_CO2_Slope</th>\n",
       "      <th>S6_PIR</th>\n",
       "      <th>S7_PIR</th>\n",
       "      <th>Room_Occupancy_Count</th>\n",
       "    </tr>\n",
       "  </thead>\n",
       "  <tbody>\n",
       "    <tr>\n",
       "      <th>0</th>\n",
       "      <td>-1.462961</td>\n",
       "      <td>-1.357708</td>\n",
       "      <td>-1.162277</td>\n",
       "      <td>-1.049633</td>\n",
       "      <td>1.873213</td>\n",
       "      <td>0.118621</td>\n",
       "      <td>0.321083</td>\n",
       "      <td>1.366159</td>\n",
       "      <td>-0.278418</td>\n",
       "      <td>0.262413</td>\n",
       "      <td>-0.237211</td>\n",
       "      <td>-0.363270</td>\n",
       "      <td>-0.354364</td>\n",
       "      <td>0.664436</td>\n",
       "      <td>-0.314733</td>\n",
       "      <td>-0.294014</td>\n",
       "      <td>1</td>\n",
       "    </tr>\n",
       "    <tr>\n",
       "      <th>1</th>\n",
       "      <td>-1.462961</td>\n",
       "      <td>-1.357708</td>\n",
       "      <td>-1.162277</td>\n",
       "      <td>-0.881298</td>\n",
       "      <td>1.873213</td>\n",
       "      <td>0.103763</td>\n",
       "      <td>0.321083</td>\n",
       "      <td>1.366159</td>\n",
       "      <td>2.405433</td>\n",
       "      <td>-0.262910</td>\n",
       "      <td>-0.237211</td>\n",
       "      <td>-0.363270</td>\n",
       "      <td>-0.354364</td>\n",
       "      <td>0.558789</td>\n",
       "      <td>-0.314733</td>\n",
       "      <td>-0.294014</td>\n",
       "      <td>1</td>\n",
       "    </tr>\n",
       "    <tr>\n",
       "      <th>2</th>\n",
       "      <td>-1.292192</td>\n",
       "      <td>-1.357708</td>\n",
       "      <td>-1.302699</td>\n",
       "      <td>-0.881298</td>\n",
       "      <td>1.873213</td>\n",
       "      <td>0.118621</td>\n",
       "      <td>0.321083</td>\n",
       "      <td>1.366159</td>\n",
       "      <td>0.826697</td>\n",
       "      <td>-0.037771</td>\n",
       "      <td>-0.188860</td>\n",
       "      <td>-0.363270</td>\n",
       "      <td>-0.354364</td>\n",
       "      <td>0.449842</td>\n",
       "      <td>-0.314733</td>\n",
       "      <td>-0.294014</td>\n",
       "      <td>1</td>\n",
       "    </tr>\n",
       "    <tr>\n",
       "      <th>3</th>\n",
       "      <td>-1.292192</td>\n",
       "      <td>-1.357708</td>\n",
       "      <td>-1.162277</td>\n",
       "      <td>-0.881298</td>\n",
       "      <td>1.873213</td>\n",
       "      <td>0.118621</td>\n",
       "      <td>0.321083</td>\n",
       "      <td>1.366159</td>\n",
       "      <td>0.763548</td>\n",
       "      <td>-0.075294</td>\n",
       "      <td>-0.140508</td>\n",
       "      <td>-0.114685</td>\n",
       "      <td>-0.354364</td>\n",
       "      <td>0.337592</td>\n",
       "      <td>-0.314733</td>\n",
       "      <td>-0.294014</td>\n",
       "      <td>1</td>\n",
       "    </tr>\n",
       "    <tr>\n",
       "      <th>4</th>\n",
       "      <td>-1.292192</td>\n",
       "      <td>-1.357708</td>\n",
       "      <td>-1.162277</td>\n",
       "      <td>-0.881298</td>\n",
       "      <td>1.873213</td>\n",
       "      <td>0.118621</td>\n",
       "      <td>0.338206</td>\n",
       "      <td>1.366159</td>\n",
       "      <td>0.037329</td>\n",
       "      <td>-0.225387</td>\n",
       "      <td>-0.237211</td>\n",
       "      <td>-0.363270</td>\n",
       "      <td>-0.354364</td>\n",
       "      <td>0.222042</td>\n",
       "      <td>-0.314733</td>\n",
       "      <td>-0.294014</td>\n",
       "      <td>1</td>\n",
       "    </tr>\n",
       "    <tr>\n",
       "      <th>...</th>\n",
       "      <td>...</td>\n",
       "      <td>...</td>\n",
       "      <td>...</td>\n",
       "      <td>...</td>\n",
       "      <td>...</td>\n",
       "      <td>...</td>\n",
       "      <td>...</td>\n",
       "      <td>...</td>\n",
       "      <td>...</td>\n",
       "      <td>...</td>\n",
       "      <td>...</td>\n",
       "      <td>...</td>\n",
       "      <td>...</td>\n",
       "      <td>...</td>\n",
       "      <td>...</td>\n",
       "      <td>...</td>\n",
       "      <td>...</td>\n",
       "    </tr>\n",
       "    <tr>\n",
       "      <th>10124</th>\n",
       "      <td>-1.121422</td>\n",
       "      <td>-0.709604</td>\n",
       "      <td>-0.858029</td>\n",
       "      <td>-1.246022</td>\n",
       "      <td>-0.381191</td>\n",
       "      <td>-0.282543</td>\n",
       "      <td>-0.021378</td>\n",
       "      <td>0.447895</td>\n",
       "      <td>-0.246843</td>\n",
       "      <td>-0.300433</td>\n",
       "      <td>-0.237211</td>\n",
       "      <td>-0.197546</td>\n",
       "      <td>-0.579404</td>\n",
       "      <td>0.004146</td>\n",
       "      <td>-0.314733</td>\n",
       "      <td>-0.294014</td>\n",
       "      <td>0</td>\n",
       "    </tr>\n",
       "    <tr>\n",
       "      <th>10125</th>\n",
       "      <td>-1.121422</td>\n",
       "      <td>-0.828992</td>\n",
       "      <td>-0.858029</td>\n",
       "      <td>-1.414356</td>\n",
       "      <td>-0.381191</td>\n",
       "      <td>-0.282543</td>\n",
       "      <td>-0.004255</td>\n",
       "      <td>0.447895</td>\n",
       "      <td>-0.309993</td>\n",
       "      <td>-0.262910</td>\n",
       "      <td>-0.261387</td>\n",
       "      <td>-0.197546</td>\n",
       "      <td>-0.579404</td>\n",
       "      <td>0.004146</td>\n",
       "      <td>-0.314733</td>\n",
       "      <td>-0.294014</td>\n",
       "      <td>0</td>\n",
       "    </tr>\n",
       "    <tr>\n",
       "      <th>10126</th>\n",
       "      <td>-0.922191</td>\n",
       "      <td>-0.828992</td>\n",
       "      <td>-0.858029</td>\n",
       "      <td>-1.414356</td>\n",
       "      <td>-0.381191</td>\n",
       "      <td>-0.282543</td>\n",
       "      <td>-0.004255</td>\n",
       "      <td>0.447895</td>\n",
       "      <td>-0.183694</td>\n",
       "      <td>-0.262910</td>\n",
       "      <td>-0.237211</td>\n",
       "      <td>-0.197546</td>\n",
       "      <td>-0.579404</td>\n",
       "      <td>0.004146</td>\n",
       "      <td>-0.314733</td>\n",
       "      <td>-0.294014</td>\n",
       "      <td>0</td>\n",
       "    </tr>\n",
       "    <tr>\n",
       "      <th>10127</th>\n",
       "      <td>-0.922191</td>\n",
       "      <td>-0.828992</td>\n",
       "      <td>-0.858029</td>\n",
       "      <td>-1.414356</td>\n",
       "      <td>-0.381191</td>\n",
       "      <td>-0.282543</td>\n",
       "      <td>-0.004255</td>\n",
       "      <td>0.447895</td>\n",
       "      <td>-0.278418</td>\n",
       "      <td>-0.150341</td>\n",
       "      <td>-0.140508</td>\n",
       "      <td>-0.197546</td>\n",
       "      <td>-0.579404</td>\n",
       "      <td>0.004146</td>\n",
       "      <td>-0.314733</td>\n",
       "      <td>-0.294014</td>\n",
       "      <td>0</td>\n",
       "    </tr>\n",
       "    <tr>\n",
       "      <th>10128</th>\n",
       "      <td>-0.922191</td>\n",
       "      <td>-0.828992</td>\n",
       "      <td>-0.858029</td>\n",
       "      <td>-1.414356</td>\n",
       "      <td>-0.381191</td>\n",
       "      <td>-0.282543</td>\n",
       "      <td>-0.004255</td>\n",
       "      <td>0.447895</td>\n",
       "      <td>-0.278418</td>\n",
       "      <td>-0.262910</td>\n",
       "      <td>-0.237211</td>\n",
       "      <td>-0.197546</td>\n",
       "      <td>-0.579404</td>\n",
       "      <td>0.004146</td>\n",
       "      <td>-0.314733</td>\n",
       "      <td>-0.294014</td>\n",
       "      <td>0</td>\n",
       "    </tr>\n",
       "  </tbody>\n",
       "</table>\n",
       "<p>10129 rows × 17 columns</p>\n",
       "</div>"
      ],
      "text/plain": [
       "        S1_Temp   S2_Temp   S3_Temp   S4_Temp  S1_Light  S2_Light  S3_Light  \\\n",
       "0     -1.462961 -1.357708 -1.162277 -1.049633  1.873213  0.118621  0.321083   \n",
       "1     -1.462961 -1.357708 -1.162277 -0.881298  1.873213  0.103763  0.321083   \n",
       "2     -1.292192 -1.357708 -1.302699 -0.881298  1.873213  0.118621  0.321083   \n",
       "3     -1.292192 -1.357708 -1.162277 -0.881298  1.873213  0.118621  0.321083   \n",
       "4     -1.292192 -1.357708 -1.162277 -0.881298  1.873213  0.118621  0.338206   \n",
       "...         ...       ...       ...       ...       ...       ...       ...   \n",
       "10124 -1.121422 -0.709604 -0.858029 -1.246022 -0.381191 -0.282543 -0.021378   \n",
       "10125 -1.121422 -0.828992 -0.858029 -1.414356 -0.381191 -0.282543 -0.004255   \n",
       "10126 -0.922191 -0.828992 -0.858029 -1.414356 -0.381191 -0.282543 -0.004255   \n",
       "10127 -0.922191 -0.828992 -0.858029 -1.414356 -0.381191 -0.282543 -0.004255   \n",
       "10128 -0.922191 -0.828992 -0.858029 -1.414356 -0.381191 -0.282543 -0.004255   \n",
       "\n",
       "       S4_Light  S1_Sound  S2_Sound  S3_Sound  S4_Sound    S5_CO2  \\\n",
       "0      1.366159 -0.278418  0.262413 -0.237211 -0.363270 -0.354364   \n",
       "1      1.366159  2.405433 -0.262910 -0.237211 -0.363270 -0.354364   \n",
       "2      1.366159  0.826697 -0.037771 -0.188860 -0.363270 -0.354364   \n",
       "3      1.366159  0.763548 -0.075294 -0.140508 -0.114685 -0.354364   \n",
       "4      1.366159  0.037329 -0.225387 -0.237211 -0.363270 -0.354364   \n",
       "...         ...       ...       ...       ...       ...       ...   \n",
       "10124  0.447895 -0.246843 -0.300433 -0.237211 -0.197546 -0.579404   \n",
       "10125  0.447895 -0.309993 -0.262910 -0.261387 -0.197546 -0.579404   \n",
       "10126  0.447895 -0.183694 -0.262910 -0.237211 -0.197546 -0.579404   \n",
       "10127  0.447895 -0.278418 -0.150341 -0.140508 -0.197546 -0.579404   \n",
       "10128  0.447895 -0.278418 -0.262910 -0.237211 -0.197546 -0.579404   \n",
       "\n",
       "       S5_CO2_Slope    S6_PIR    S7_PIR  Room_Occupancy_Count  \n",
       "0          0.664436 -0.314733 -0.294014                     1  \n",
       "1          0.558789 -0.314733 -0.294014                     1  \n",
       "2          0.449842 -0.314733 -0.294014                     1  \n",
       "3          0.337592 -0.314733 -0.294014                     1  \n",
       "4          0.222042 -0.314733 -0.294014                     1  \n",
       "...             ...       ...       ...                   ...  \n",
       "10124      0.004146 -0.314733 -0.294014                     0  \n",
       "10125      0.004146 -0.314733 -0.294014                     0  \n",
       "10126      0.004146 -0.314733 -0.294014                     0  \n",
       "10127      0.004146 -0.314733 -0.294014                     0  \n",
       "10128      0.004146 -0.314733 -0.294014                     0  \n",
       "\n",
       "[10129 rows x 17 columns]"
      ]
     },
     "execution_count": 118,
     "metadata": {},
     "output_type": "execute_result"
    }
   ],
   "source": [
    "dataset4"
   ]
  },
  {
   "cell_type": "code",
   "execution_count": 119,
   "id": "b4c803ee-6511-42f0-9fe9-2b70489bb8c8",
   "metadata": {},
   "outputs": [],
   "source": [
    "temp = ['S1_Temp', 'S2_Temp', 'S3_Temp', 'S4_Temp']\n",
    "light = ['S1_Light', 'S2_Light', 'S3_Light', 'S4_Light']\n",
    "sound = ['S1_Sound', 'S2_Sound', 'S3_Sound', 'S4_Sound']\n",
    "pir = ['S6_PIR', 'S7_PIR']\n",
    "dataset4['avg_temp'] = dataset4[temp].mean(axis=1)\n",
    "dataset4['avg_sound'] = dataset4[sound].mean(axis=1)\n",
    "dataset4['avg_light'] = dataset4[light].mean(axis=1)\n",
    "dataset4['avg_pir'] = dataset4[pir].mean(axis=1)\n",
    "dataset4.drop(columns = temp + light + sound + pir, inplace = True)"
   ]
  },
  {
   "cell_type": "code",
   "execution_count": 120,
   "id": "23083232-5ac5-4cd7-bfe4-ae44f6e8ac81",
   "metadata": {},
   "outputs": [],
   "source": [
    "x1 = dataset4[['avg_temp', 'avg_sound', 'avg_light', 'avg_pir', 'S5_CO2', 'S5_CO2_Slope']]\n",
    "y1 = dataset4[['Room_Occupancy_Count']]"
   ]
  },
  {
   "cell_type": "markdown",
   "id": "b3ca0b76-0040-4f9e-b65f-13e656f97d34",
   "metadata": {},
   "source": [
    "## Training Testing Split"
   ]
  },
  {
   "cell_type": "code",
   "execution_count": 106,
   "id": "8e6156c6-ff2c-45c5-9881-fa1d8559201c",
   "metadata": {},
   "outputs": [],
   "source": [
    "x_train1, x_test1, y_train1, y_test1 = train_test_split(dataset1[:, :-1], dataset1[:, -1], test_size = 0.2, random_state = 42)\n",
    "x_train2, x_test2, y_train2, y_test2 = train_test_split(dataset2[:, :-1], dataset2[:, -1], test_size = 0.2, random_state = 42)\n",
    "x_train3, x_test3, y_train3, y_test3 = train_test_split(x, y, test_size = 0.2, random_state = 42)"
   ]
  },
  {
   "cell_type": "code",
   "execution_count": 121,
   "id": "206e5c87-5d03-4795-8c77-1e1c3ccaea96",
   "metadata": {},
   "outputs": [],
   "source": [
    "x_train4, x_test4, y_train4, y_test4 = train_test_split(x1, y1, test_size = 0.2, random_state = 42)"
   ]
  },
  {
   "cell_type": "markdown",
   "id": "76af3386-1700-4c99-8b6c-0b908b4e16b5",
   "metadata": {},
   "source": [
    "## Testing Models"
   ]
  },
  {
   "cell_type": "markdown",
   "id": "463de5cc-12f9-4ee9-8cef-dfc8e50840bc",
   "metadata": {},
   "source": [
    "### KMeans - 0.8123 for combining features, 0.1841 for keeping all features"
   ]
  },
  {
   "cell_type": "code",
   "execution_count": 130,
   "id": "32b9b1b9-6d5f-4ae0-8f37-4c37ee5dd17d",
   "metadata": {},
   "outputs": [
    {
     "data": {
      "text/plain": [
       "0.18412479020633823"
      ]
     },
     "execution_count": 130,
     "metadata": {},
     "output_type": "execute_result"
    }
   ],
   "source": [
    "kmeans4 = KMeans(n_clusters = 4, init = \"k-means++\", random_state = 42)\n",
    "y_pred4 = kmeans4.fit_predict(dataset1[:, :-1])\n",
    "accuracy_score(dataset1[:, -1], y_pred4)"
   ]
  },
  {
   "cell_type": "markdown",
   "id": "078c2f85-e1f2-46a2-9f8c-6e6943229af5",
   "metadata": {},
   "source": [
    "### Logistic Regression \n",
    "#### newton-cg ~ lbfgs\n",
    "#### Dataset 1"
   ]
  },
  {
   "cell_type": "code",
   "execution_count": 132,
   "id": "36ef76d5-0f1d-487f-b8f2-f4f269b8ad65",
   "metadata": {},
   "outputs": [
    {
     "data": {
      "text/plain": [
       "(0.9925962487660415, 0.9921026653504442)"
      ]
     },
     "execution_count": 132,
     "metadata": {},
     "output_type": "execute_result"
    }
   ],
   "source": [
    "lr1 = LogisticRegression(multi_class='multinomial', solver='lbfgs', max_iter=1000, random_state=42)\n",
    "lr2 = LogisticRegression(multi_class='multinomial', solver='saga', max_iter=10000, random_state=42)\n",
    "scores = cross_val_score(lr1, x_train1, y_train1, cv = 10, scoring = 'accuracy')\n",
    "lr1.fit(x_train1, y_train1)\n",
    "y_test_pred1 = lr1.predict(x_test1)\n",
    "scores = cross_val_score(lr2, x_train1, y_train1, cv = 10, scoring = 'accuracy')\n",
    "lr2.fit(x_train1, y_train1)\n",
    "y_test_pred2 = lr2.predict(x_test1)\n",
    "accuracy_score(y_test_pred1, y_test1), accuracy_score(y_test_pred2, y_test1)"
   ]
  },
  {
   "cell_type": "markdown",
   "id": "17d40a52-90e7-4250-b18a-7f97a9a7d49f",
   "metadata": {},
   "source": [
    "#### Dataset 2"
   ]
  },
  {
   "cell_type": "code",
   "execution_count": 133,
   "id": "c2bdfc92-3dfd-4e84-a631-24d71b0b43da",
   "metadata": {},
   "outputs": [
    {
     "data": {
      "text/plain": [
       "(0.9925962487660415, 0.9921026653504442)"
      ]
     },
     "execution_count": 133,
     "metadata": {},
     "output_type": "execute_result"
    }
   ],
   "source": [
    "lr3 = LogisticRegression(multi_class='multinomial', solver='lbfgs', max_iter=1000, random_state=42)\n",
    "lr4 = LogisticRegression(multi_class='multinomial', solver='saga', max_iter=10000, random_state=42)\n",
    "scores = cross_val_score(lr3, x_train2, y_train2, cv = 10, scoring = 'accuracy')\n",
    "lr3.fit(x_train2, y_train2)\n",
    "y_test_pred3 = lr3.predict(x_test2)\n",
    "scores = cross_val_score(lr4, x_train2, y_train2, cv = 10, scoring = 'accuracy')\n",
    "lr4.fit(x_train2, y_train2)\n",
    "y_test_pred4 = lr4.predict(x_test2)\n",
    "accuracy_score(y_test_pred3, y_test2), accuracy_score(y_test_pred4, y_test2)"
   ]
  },
  {
   "cell_type": "markdown",
   "id": "ece5b7e6-7648-477a-96bf-c9ebf857755a",
   "metadata": {},
   "source": [
    "#### Dataset 3"
   ]
  },
  {
   "cell_type": "code",
   "execution_count": 137,
   "id": "c28ab582-f870-4d7c-9f4e-043d99ae3a62",
   "metadata": {},
   "outputs": [
    {
     "data": {
      "text/plain": [
       "(0.9521224086870681, 0.9526159921026653)"
      ]
     },
     "execution_count": 137,
     "metadata": {},
     "output_type": "execute_result"
    }
   ],
   "source": [
    "lr5 = LogisticRegression(multi_class='multinomial', solver='lbfgs', max_iter=1000, random_state=42)\n",
    "lr6 = LogisticRegression(multi_class='multinomial', solver='saga', max_iter=10000, random_state=42)\n",
    "scores = cross_val_score(lr5, x_train3, y_train3, cv = 10, scoring = 'accuracy')\n",
    "lr5.fit(x_train3, y_train3)\n",
    "y_test_pred5 = lr5.predict(x_test3)\n",
    "scores = cross_val_score(lr6, x_train3, y_train3, cv = 10, scoring = 'accuracy')\n",
    "lr6.fit(x_train3, y_train3)\n",
    "y_test_pred6 = lr6.predict(x_test3)\n",
    "accuracy_score(y_test_pred5, y_test3), accuracy_score(y_test_pred6, y_test3)"
   ]
  },
  {
   "cell_type": "markdown",
   "id": "2d8ff185-6437-42d0-999f-9e6c644d6081",
   "metadata": {},
   "source": [
    "#### Dataset 4"
   ]
  },
  {
   "cell_type": "code",
   "execution_count": 138,
   "id": "fe956cbd-3915-4e0c-9b82-666fae486663",
   "metadata": {},
   "outputs": [
    {
     "data": {
      "text/plain": [
       "(0.9427443237907206, 0.9427443237907206)"
      ]
     },
     "execution_count": 138,
     "metadata": {},
     "output_type": "execute_result"
    }
   ],
   "source": [
    "lr7 = LogisticRegression(multi_class='multinomial', solver='lbfgs', max_iter=1000, random_state=42)\n",
    "lr8 = LogisticRegression(multi_class='multinomial', solver='saga', max_iter=10000, random_state=42)\n",
    "scores = cross_val_score(lr7, x_train4, y_train4, cv = 10, scoring = 'accuracy')\n",
    "lr7.fit(x_train4, y_train4)\n",
    "y_test_pred7 = lr7.predict(x_test4)\n",
    "scores = cross_val_score(lr8, x_train4, y_train4, cv = 10, scoring = 'accuracy')\n",
    "lr8.fit(x_train4, y_train4)\n",
    "y_test_pred8 = lr8.predict(x_test4)\n",
    "accuracy_score(y_test_pred7, y_test4), accuracy_score(y_test_pred8, y_test4)"
   ]
  },
  {
   "cell_type": "markdown",
   "id": "589d0253-0b34-4ae3-b3ac-aec0b053ba30",
   "metadata": {},
   "source": [
    "### KNeighbors\n",
    "#### Dataset 1"
   ]
  },
  {
   "cell_type": "code",
   "execution_count": 139,
   "id": "fa7cff4f-87ef-4889-bca7-7b1402fe7440",
   "metadata": {},
   "outputs": [
    {
     "data": {
      "text/plain": [
       "0.9901283316880553"
      ]
     },
     "execution_count": 139,
     "metadata": {},
     "output_type": "execute_result"
    }
   ],
   "source": [
    "knn1 = KNeighborsClassifier()\n",
    "scores = cross_val_score(knn1, x_train1, y_train1, cv = 10, scoring = 'accuracy')\n",
    "knn1.fit(x_train1, y_train1)\n",
    "y_test_pred1 = knn1.predict(x_test1)\n",
    "accuracy_score(y_test_pred1, y_test1)"
   ]
  },
  {
   "cell_type": "markdown",
   "id": "55ae7e58-3152-49ff-93e5-d11aa27698a7",
   "metadata": {},
   "source": [
    "#### Dataset 2"
   ]
  },
  {
   "cell_type": "code",
   "execution_count": 140,
   "id": "a2a1c241-cc91-44df-8143-5c755d0935fe",
   "metadata": {},
   "outputs": [
    {
     "data": {
      "text/plain": [
       "0.9901283316880553"
      ]
     },
     "execution_count": 140,
     "metadata": {},
     "output_type": "execute_result"
    }
   ],
   "source": [
    "knn2 = KNeighborsClassifier()\n",
    "scores = cross_val_score(knn2, x_train2, y_train2, cv = 10, scoring = 'accuracy')\n",
    "knn2.fit(x_train2, y_train2)\n",
    "y_test_pred2 = knn2.predict(x_test2)\n",
    "accuracy_score(y_test_pred2, y_test2)"
   ]
  },
  {
   "cell_type": "markdown",
   "id": "c46be404-463c-4cba-a374-b27bee91e627",
   "metadata": {},
   "source": [
    "#### Dataset 3"
   ]
  },
  {
   "cell_type": "code",
   "execution_count": 141,
   "id": "0ca398e9-bff3-40a9-9d17-9e8cba8ea263",
   "metadata": {},
   "outputs": [
    {
     "data": {
      "text/plain": [
       "0.9846989141164857"
      ]
     },
     "execution_count": 141,
     "metadata": {},
     "output_type": "execute_result"
    }
   ],
   "source": [
    "knn3 = KNeighborsClassifier()\n",
    "scores = cross_val_score(knn3, x_train3, y_train3, cv = 10, scoring = 'accuracy')\n",
    "knn3.fit(x_train3, y_train3)\n",
    "y_test_pred3 = knn3.predict(x_test3)\n",
    "accuracy_score(y_test_pred3, y_test3)"
   ]
  },
  {
   "cell_type": "markdown",
   "id": "437d1de9-b03e-4ec8-a206-41e9222a3e4d",
   "metadata": {},
   "source": [
    "#### Dataset 4"
   ]
  },
  {
   "cell_type": "code",
   "execution_count": 142,
   "id": "fa5e411e-bd5b-4562-b593-1576036eb352",
   "metadata": {},
   "outputs": [
    {
     "data": {
      "text/plain": [
       "0.9837117472852912"
      ]
     },
     "execution_count": 142,
     "metadata": {},
     "output_type": "execute_result"
    }
   ],
   "source": [
    "knn4 = KNeighborsClassifier()\n",
    "scores = cross_val_score(knn4, x_train4, y_train4, cv = 10, scoring = 'accuracy')\n",
    "knn4.fit(x_train4, y_train4)\n",
    "y_test_pred4 = knn4.predict(x_test4)\n",
    "accuracy_score(y_test_pred4, y_test4)"
   ]
  },
  {
   "cell_type": "markdown",
   "id": "ba79e88a-107e-470f-918f-5344dc81ffb6",
   "metadata": {},
   "source": [
    "### Gradient Boosting\n",
    "#### Dataset 1"
   ]
  },
  {
   "cell_type": "code",
   "execution_count": 143,
   "id": "9e703a74-b06e-45fb-9404-07ce0bf7fa62",
   "metadata": {},
   "outputs": [
    {
     "data": {
      "text/plain": [
       "0.9950641658440277"
      ]
     },
     "execution_count": 143,
     "metadata": {},
     "output_type": "execute_result"
    }
   ],
   "source": [
    "gsb1 = GradientBoostingClassifier()\n",
    "scores = cross_val_score(gsb1, x_train1, y_train1, cv = 10, scoring = 'accuracy')\n",
    "gsb1.fit(x_train1, y_train1)\n",
    "y_test_pred1 = gsb1.predict(x_test1)\n",
    "accuracy_score(y_test_pred1, y_test1)"
   ]
  },
  {
   "cell_type": "markdown",
   "id": "4519fcd7-339a-49a1-b950-9efbe4d3e0d8",
   "metadata": {},
   "source": [
    "#### Dataset 2"
   ]
  },
  {
   "cell_type": "code",
   "execution_count": 144,
   "id": "a8ac3260-ccd1-4f9e-be00-084d629257ba",
   "metadata": {},
   "outputs": [
    {
     "data": {
      "text/plain": [
       "0.9950641658440277"
      ]
     },
     "execution_count": 144,
     "metadata": {},
     "output_type": "execute_result"
    }
   ],
   "source": [
    "gsb2 = GradientBoostingClassifier()\n",
    "scores = cross_val_score(gsb2, x_train2, y_train2, cv = 10, scoring = 'accuracy')\n",
    "gsb2.fit(x_train2, y_train2)\n",
    "y_test_pred2 = gsb2.predict(x_test2)\n",
    "accuracy_score(y_test_pred2, y_test2)"
   ]
  },
  {
   "cell_type": "markdown",
   "id": "1c55da13-f355-4ec1-8608-a8bef97cf405",
   "metadata": {},
   "source": [
    "#### Dataset 3"
   ]
  },
  {
   "cell_type": "code",
   "execution_count": 145,
   "id": "0ff88e1a-de3b-4fb0-816e-03d6d298f975",
   "metadata": {},
   "outputs": [
    {
     "data": {
      "text/plain": [
       "0.9965449160908193"
      ]
     },
     "execution_count": 145,
     "metadata": {},
     "output_type": "execute_result"
    }
   ],
   "source": [
    "gsb3 = GradientBoostingClassifier()\n",
    "scores = cross_val_score(gsb3, x_train3, y_train3, cv = 10, scoring = 'accuracy')\n",
    "gsb3.fit(x_train3, y_train3)\n",
    "y_test_pred3 = gsb3.predict(x_test3)\n",
    "accuracy_score(y_test_pred3, y_test3)"
   ]
  },
  {
   "cell_type": "markdown",
   "id": "50a9d0a6-6e86-49fc-bffe-47ea3e8fff52",
   "metadata": {},
   "source": [
    "#### Dataset 4"
   ]
  },
  {
   "cell_type": "code",
   "execution_count": 146,
   "id": "2811210a-b9d0-4940-b344-52b6b1b6303d",
   "metadata": {},
   "outputs": [
    {
     "data": {
      "text/plain": [
       "0.9960513326752222"
      ]
     },
     "execution_count": 146,
     "metadata": {},
     "output_type": "execute_result"
    }
   ],
   "source": [
    "gsb4 = GradientBoostingClassifier()\n",
    "scores = cross_val_score(gsb4, x_train4, y_train4, cv = 10, scoring = 'accuracy')\n",
    "gsb4.fit(x_train4, y_train4)\n",
    "y_test_pred4 = gsb4.predict(x_test4)\n",
    "accuracy_score(y_test_pred4, y_test4)"
   ]
  },
  {
   "cell_type": "markdown",
   "id": "1c56bc14-6c84-41a6-a292-b089da8e0aee",
   "metadata": {},
   "source": [
    "### Random Forest\n",
    "#### Dataset 1"
   ]
  },
  {
   "cell_type": "code",
   "execution_count": 148,
   "id": "4b064cfa-1df4-4a47-bf61-13c1d0aa6c36",
   "metadata": {},
   "outputs": [
    {
     "data": {
      "text/plain": [
       "0.9985192497532083"
      ]
     },
     "execution_count": 148,
     "metadata": {},
     "output_type": "execute_result"
    }
   ],
   "source": [
    "rf1 = RandomForestClassifier(random_state = 42)\n",
    "scores = cross_val_score(rf1, x_train1, y_train1, cv = 10, scoring = 'accuracy')\n",
    "rf1.fit(x_train1, y_train1)\n",
    "y_test_pred1 = rf1.predict(x_test1)\n",
    "accuracy_score(y_test_pred1, y_test1)"
   ]
  },
  {
   "cell_type": "markdown",
   "id": "51a363bb-b30d-48a2-bfb9-31dc9f5ceadd",
   "metadata": {},
   "source": [
    "#### Dataset 2"
   ]
  },
  {
   "cell_type": "code",
   "execution_count": 149,
   "id": "29618055-9ab7-4e4b-843e-302887787443",
   "metadata": {},
   "outputs": [
    {
     "data": {
      "text/plain": [
       "0.9985192497532083"
      ]
     },
     "execution_count": 149,
     "metadata": {},
     "output_type": "execute_result"
    }
   ],
   "source": [
    "rf2 = RandomForestClassifier(random_state = 42)\n",
    "scores = cross_val_score(rf2, x_train2, y_train2, cv = 10, scoring = 'accuracy')\n",
    "rf2.fit(x_train2, y_train2)\n",
    "y_test_pred2 = rf2.predict(x_test2)\n",
    "accuracy_score(y_test_pred2, y_test2)"
   ]
  },
  {
   "cell_type": "markdown",
   "id": "11608e88-cc46-40ad-9c2c-b3132e76e42c",
   "metadata": {},
   "source": [
    "#### Dataset 3"
   ]
  },
  {
   "cell_type": "code",
   "execution_count": 150,
   "id": "f59b197d-1396-4d05-bfc6-236ff4a42d08",
   "metadata": {},
   "outputs": [
    {
     "data": {
      "text/plain": [
       "0.9970384995064165"
      ]
     },
     "execution_count": 150,
     "metadata": {},
     "output_type": "execute_result"
    }
   ],
   "source": [
    "rf3 = RandomForestClassifier(random_state = 42)\n",
    "scores = cross_val_score(rf3, x_train3, y_train3, cv = 10, scoring = 'accuracy')\n",
    "rf3.fit(x_train3, y_train3)\n",
    "y_test_pred3 = rf3.predict(x_test3)\n",
    "accuracy_score(y_test_pred3, y_test3)"
   ]
  },
  {
   "cell_type": "markdown",
   "id": "bf93448b-e87e-4d9b-be60-fbe54af8470a",
   "metadata": {},
   "source": [
    "#### Dataset 4"
   ]
  },
  {
   "cell_type": "code",
   "execution_count": 151,
   "id": "eb37ed6f-464b-44d0-be22-b054d5184f11",
   "metadata": {},
   "outputs": [
    {
     "data": {
      "text/plain": [
       "0.9960513326752222"
      ]
     },
     "execution_count": 151,
     "metadata": {},
     "output_type": "execute_result"
    }
   ],
   "source": [
    "rf4 = RandomForestClassifier(random_state = 42)\n",
    "scores = cross_val_score(rf4, x_train4, y_train4, cv = 10, scoring = 'accuracy')\n",
    "rf4.fit(x_train4, y_train4)\n",
    "y_test_pred4 = rf4.predict(x_test4)\n",
    "accuracy_score(y_test_pred4, y_test4)"
   ]
  }
 ],
 "metadata": {
  "kernelspec": {
   "display_name": "Python 3 (ipykernel)",
   "language": "python",
   "name": "python3"
  },
  "language_info": {
   "codemirror_mode": {
    "name": "ipython",
    "version": 3
   },
   "file_extension": ".py",
   "mimetype": "text/x-python",
   "name": "python",
   "nbconvert_exporter": "python",
   "pygments_lexer": "ipython3",
   "version": "3.12.3"
  }
 },
 "nbformat": 4,
 "nbformat_minor": 5
}
